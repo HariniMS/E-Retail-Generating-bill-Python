{
  "nbformat": 4,
  "nbformat_minor": 0,
  "metadata": {
    "colab": {
      "name": "E_Retail_python.ipynb",
      "provenance": [],
      "collapsed_sections": []
    },
    "kernelspec": {
      "name": "python3",
      "display_name": "Python 3"
    }
  },
  "cells": [
    {
      "cell_type": "markdown",
      "metadata": {
        "id": "Kf8ms9wcBqfK",
        "colab_type": "text"
      },
      "source": [
        "# **E-Retail**  - Generating the bill using Python\n",
        "\n",
        "In this program, first we are assigning items with fruit names using list and price with values of the fruits. Then, ask the customer which fruit he is looking for from the available fruit list and also ask the quanitity for those fruits, and afterward create the bill for that"
      ]
    },
    {
      "cell_type": "code",
      "metadata": {
        "id": "VdpP2ZFPArXz",
        "colab_type": "code",
        "colab": {
          "base_uri": "https://localhost:8080/",
          "height": 134
        },
        "outputId": "fa4e6858-2e36-4117-b079-63d3affa5ed4"
      },
      "source": [
        "#using Lists\n",
        "\n",
        "#assigning fruit names to items in list\n",
        "items= [\"mango\", \"banana\", \"orange\", \"kiwi\", \"apple\", \"grapes\"]\n",
        "#printing those fruit names\n",
        "print(\"Available items are :  \", items)\n",
        "\n",
        "#assigning price with fruit rates in list\n",
        "price = [30, 10, 20, 50, 45, 15] \n",
        "print(\"prices for the above items are :  \", price)\n",
        "\n",
        "#taking input from the user \n",
        "user = input(\"Hi, which fruit you wanted ? \")\n",
        "#printing that user's input\n",
        "print(\"The fruits(s) is: \", user)\n",
        "\n",
        "#taking user's quantity for the fruits\n",
        "quantity = int(input(\"How many items do you wanna buy :  \"))\n",
        "#printing the quantity\n",
        "print(\"Quantity is : \", quantity)\n",
        "\n",
        "#if the item(fruit) is mango\n",
        "if(user == items[0]):\n",
        "  #printing the bill to mango fruit( mango rate * user's quanity   )\n",
        "  print(\"the bill is \", price[0]*quantity)\n",
        "#if the item(fruit) is banana\n",
        "elif(user == items[1]):\n",
        "  print(\"the bill is : \", price[1]*quantity)\n",
        "#if the item(fruit) is orange\n",
        "elif(user == items[2]):\n",
        "  print(\"the bill is : \", price[2]*quantity)\n",
        "#if the item(fruit) is kiwi\n",
        "elif(user == items[3]):\n",
        "  print(\"the bill is : \", price[3]*quantity)\n",
        "#if the item(fruit) is apple\n",
        "elif(user == items[4]):\n",
        "  print(\"the bill is : \", price[4]*quantity)\n",
        "#if the item(fruit) is grapes\n",
        "elif(user == items[5]):\n",
        "  print(\"the bill is : \", price[5]*quantity)\n",
        "else:\n",
        "  print(\"sorry, we don't have that fruit\")\n"
      ],
      "execution_count": 2,
      "outputs": [
        {
          "output_type": "stream",
          "text": [
            "Available items are :   ['mango', 'banana', 'orange', 'kiwi', 'apple', 'grapes']\n",
            "prices for the above items are :   [30, 10, 20, 50, 45, 15]\n",
            "Hi, which fruit you wanted ? kiwi\n",
            "The fruits(s) is:  kiwi\n",
            "How many items do you wanna buy :  2\n",
            "Quantity is :  2\n",
            "the bill is :  100\n"
          ],
          "name": "stdout"
        }
      ]
    },
    {
      "cell_type": "code",
      "metadata": {
        "id": "7FbpCWHa9lYb",
        "colab_type": "code",
        "colab": {
          "base_uri": "https://localhost:8080/",
          "height": 84
        },
        "outputId": "29fb67ed-df73-45c4-df6f-56a4233a6eb6"
      },
      "source": [
        "# the below program also  works same as above program (without using elif loops)\n",
        "items=[\"vadapao\",\"tea\",\"idalisambar\",\"pavbhaji\",\"misal\"]\n",
        "price=[10,5,30,50,40]\n",
        "print(items)\n",
        "x=input(\"This is menuList What would you like to have ?? \")\n",
        "y=int(items.index(x))\n",
        "print(\"Bill : You Have To Pay -\", int(input(\"Please enter qty : \"))*price[y] ,\"Rupees\")\n"
      ],
      "execution_count": 3,
      "outputs": [
        {
          "output_type": "stream",
          "text": [
            "['vadapao', 'tea', 'idalisambar', 'pavbhaji', 'misal']\n",
            "This is menuList What would you like to have ?? pavbhaji\n",
            "Please enter qty : 2\n",
            "Bill : You Have To Pay - 100 Rupees\n"
          ],
          "name": "stdout"
        }
      ]
    }
  ]
}